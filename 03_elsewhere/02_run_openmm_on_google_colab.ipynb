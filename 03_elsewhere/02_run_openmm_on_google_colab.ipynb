{
 "cells": [
  {
   "cell_type": "markdown",
   "metadata": {},
   "source": [
    "# Run OpenMM on Google Colab\n",
    "\n",
    "\n",
    "**<span style=\"color:#A03;font-size:14pt\">\n",
    "&#9888; WARNING\n",
    "</span>**\n",
    "> The installation procedure below easily breaks. It might not work when you try to reproduce this.\n",
    "\n",
    "The purpose of this notebook is to show how to run an OpenMM simulation on [Google Colab](https://colab.research.google.com/). This typically consists of the following steps:\n",
    "\n",
    "1. Instal OpenMM.\n",
    "2. Upload data files to the cloud.\n",
    "3. Run the simulation.\n",
    "4. Download the results.\n",
    "\n",
    "Do not run this notebook locally on your laptop. Upload it to [Google Colab](https://colab.research.google.com/) or copy-paste the code below into cells in a new notebook on [Google Colab](https://colab.research.google.com/)."
   ]
  },
  {
   "cell_type": "code",
   "execution_count": null,
   "metadata": {
    "tags": [
     "before-import"
    ]
   },
   "outputs": [],
   "source": [
    "# Install OpenMM\n",
    "import sys\n",
    "print(sys.version)\n",
    "!wget https://repo.anaconda.com/miniconda/Miniconda3-py37_4.10.3-Linux-x86_64.sh\n",
    "!bash Miniconda3-py*.sh -bfp /usr/local\n",
    "!conda config --set always_yes yes\n",
    "!conda config --add channels conda-forge\n",
    "!conda create -n openmm python=3.7 cudatoolkit=10.0 git jupyterlab numpy pandas scipy matplotlib ipympl rdkit openbabel openmm mdtraj pymbar pdbfixer parmed openff-toolkit openmoltools openmmforcefields\n",
    "sys.path.append('/usr/local/envs/openmm/lib/python3.7/site-packages')\n",
    "import openmm.testInstallation\n",
    "openmm.testInstallation.main()"
   ]
  },
  {
   "cell_type": "code",
   "execution_count": null,
   "metadata": {},
   "outputs": [],
   "source": [
    "# Import all the stuff we need\n",
    "from google.colab import files\n",
    "from openmm import *\n",
    "from openmm.app import *\n",
    "from openmm.unit import *"
   ]
  },
  {
   "cell_type": "code",
   "execution_count": null,
   "metadata": {},
   "outputs": [],
   "source": [
    "# Upload the file alanine-dipeptide.pdb\n",
    "uploaded = files.upload()"
   ]
  },
  {
   "cell_type": "code",
   "execution_count": null,
   "metadata": {},
   "outputs": [],
   "source": [
    "# Copy the code from notebook2, example 3\n",
    "pdb = PDBFile('alanine-dipeptide.pdb')\n",
    "modeller = Modeller(pdb.topology, pdb.positions)\n",
    "forcefield = ForceField('amber14-all.xml', 'amber14/tip3pfb.xml')\n",
    "modeller.addSolvent(forcefield, model='tip3p', padding=1*nanometer)\n",
    "print(modeller.topology)\n",
    "# Write a PDB file to provide a topology of the solvated\n",
    "# system to MDTraj below.\n",
    "with open('init3.pdb', 'w') as outfile:\n",
    "    PDBFile.writeFile(modeller.topology, modeller.positions, outfile)\n",
    "\n",
    "# The modeller builds a periodic box with the solute and solvent molecules.\n",
    "# PME is the method to compute long-range electristatic interactions in\n",
    "# periodic systems.\n",
    "system = forcefield.createSystem(\n",
    "    modeller.topology, nonbondedMethod=PME, constraints=HBonds)\n",
    "temperature = 300 * kelvin\n",
    "pressure = 1 * bar\n",
    "integrator = LangevinIntegrator(temperature, 1/picosecond, 2*femtoseconds)\n",
    "system.addForce(MonteCarloBarostat(pressure, temperature))\n",
    "simulation = Simulation(modeller.topology, system, integrator)\n",
    "simulation.context.setPositions(modeller.positions)\n",
    "simulation.minimizeEnergy()\n",
    "simulation.reporters.append(DCDReporter('traj3.dcd', 100))\n",
    "simulation.reporters.append(StateDataReporter(stdout, 1000, step=True,\n",
    "                                              temperature=True, elapsedTime=True))\n",
    "simulation.reporters.append(StateDataReporter(\"scalars3.csv\", 100, time=True,\n",
    "                                              potentialEnergy=True, totalEnergy=True, temperature=True))\n",
    "simulation.step(100000)"
   ]
  },
  {
   "cell_type": "code",
   "execution_count": null,
   "metadata": {},
   "outputs": [],
   "source": [
    "# Download the results.\n",
    "# This is terrible slow for large files, such as traj3.dcd (29MB)\n",
    "files.download('init3.pdb')\n",
    "files.download('scalars3.csv')\n",
    "files.download('traj3.dcd')"
   ]
  }
 ],
 "metadata": {
  "kernelspec": {
   "display_name": "Python 3 (ipykernel)",
   "language": "python",
   "name": "python3"
  },
  "language_info": {
   "codemirror_mode": {
    "name": "ipython",
    "version": 3
   },
   "file_extension": ".py",
   "mimetype": "text/x-python",
   "name": "python",
   "nbconvert_exporter": "python",
   "pygments_lexer": "ipython3",
   "version": "3.9.7"
  }
 },
 "nbformat": 4,
 "nbformat_minor": 4
}
