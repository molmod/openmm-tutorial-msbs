{
 "cells": [
  {
   "cell_type": "markdown",
   "metadata": {},
   "source": [
    "# Use OpenMMon the HPC\n",
    "\n",
    "# Non-interactive usage (job script)\n",
    "\n",
    "**<span style=\"color:#A03;font-size:14pt\">\n",
    "&#x270B; HANDS-ON! &#x1F528;\n",
    "</span>**\n",
    "\n",
    "- Copy this notebook and the file [../02/alanine-dipeptide.pdb](../02/alanine-dipeptide.pdb) to a directory on the HPC.\n",
    "- Create a job script `job_openmm.sh` to run the notebook, with the following contents. In this job script, you must change `mynotebook.ipynb` to the name of your notebook.\n",
    "You can also modify the number of CPU cores by changing `ppn=9` and the maximum wall time the job is allowed to run. (It will be killed in case your calculation does not stop in time.)\n",
    "\n",
    "\n",
    "```bash\n",
    "#!/usr/bin/env bash\n",
    "#PBS -N _openmm\n",
    "#PBS -l nodes=1:ppn=9\n",
    "#PBS -l walltime=5:00:00\n",
    "\n",
    "# Activate OpenMM.\n",
    "source ${VSC_DATA}/miniconda/bin/activate\n",
    "conda activate openmm\n",
    "\n",
    "# Go to the directory where qsub was executed.\n",
    "cd ${PBS_O_WORKDIR}\n",
    "\n",
    "# Set the number of threads.\n",
    "export OPENMM_CPU_THREADS=${SLURM_CPUS_ON_NODE}\n",
    "\n",
    "# Run the notebook. (Put everyting on a single line.)\n",
    "time jupyter nbconvert --to notebook --execute --allow-errors --ExecutePreprocessor.timeout=-1 mynotebook.ipynb\n",
    "```\n",
    "\n",
    "- After creating the job script, run `qsub job_openmm.sh`."
   ]
  },
  {
   "cell_type": "code",
   "execution_count": null,
   "metadata": {},
   "outputs": [],
   "source": [
    "# Import all the modules we need.\n",
    "from sys import stdout\n",
    "\n",
    "from openmm import *\n",
    "from openmm.app import *\n",
    "from openmm.unit import *"
   ]
  },
  {
   "cell_type": "markdown",
   "metadata": {},
   "source": [
    "The following code was taken from [../02/02_alanine_dipeptide.ipynb](../02/02_alanine_dipeptide.ipynb), example 3."
   ]
  },
  {
   "cell_type": "code",
   "execution_count": null,
   "metadata": {},
   "outputs": [],
   "source": [
    "pdb = PDBFile('alanine-dipeptide.pdb')\n",
    "modeller = Modeller(pdb.topology, pdb.positions)\n",
    "forcefield = ForceField('amber14-all.xml', 'amber14/tip3pfb.xml')\n",
    "modeller.addSolvent(forcefield, model='tip3p', padding=1*nanometer)\n",
    "print(modeller.topology)\n",
    "# Write a PDB file to provide a topology of the solvated\n",
    "# system to MDTraj below.\n",
    "with open('init3.pdb', 'w') as outfile:\n",
    "    PDBFile.writeFile(modeller.topology, modeller.positions, outfile)\n",
    "\n",
    "# The modeller builds a periodic box with the solute and solvent molecules.\n",
    "# PME is the method to compute long-range electristatic interactions in\n",
    "# periodic systems.\n",
    "system = forcefield.createSystem(\n",
    "    modeller.topology, nonbondedMethod=PME, constraints=HBonds)\n",
    "temperature = 300 * kelvin\n",
    "pressure = 1 * bar\n",
    "integrator = LangevinIntegrator(temperature, 1/picosecond, 2*femtoseconds)\n",
    "system.addForce(MonteCarloBarostat(pressure, temperature))\n",
    "simulation = Simulation(modeller.topology, system, integrator)\n",
    "simulation.context.setPositions(modeller.positions)\n",
    "simulation.minimizeEnergy()\n",
    "simulation.reporters.append(DCDReporter('traj3.dcd', 100))\n",
    "simulation.reporters.append(StateDataReporter(stdout, 1000, step=True,\n",
    "                                              temperature=True, elapsedTime=True))\n",
    "simulation.reporters.append(StateDataReporter(\"scalars3.csv\", 100, time=True,\n",
    "                                              potentialEnergy=True, totalEnergy=True, temperature=True))\n",
    "simulation.step(100000)"
   ]
  },
  {
   "cell_type": "markdown",
   "metadata": {},
   "source": [
    "## Interactive usage with on-demand notebooks\n",
    "\n",
    "TODO"
   ]
  }
 ],
 "metadata": {
  "kernelspec": {
   "display_name": "Python 3 (ipykernel)",
   "language": "python",
   "name": "python3"
  },
  "language_info": {
   "codemirror_mode": {
    "name": "ipython",
    "version": 3
   },
   "file_extension": ".py",
   "mimetype": "text/x-python",
   "name": "python",
   "nbconvert_exporter": "python",
   "pygments_lexer": "ipython3",
   "version": "3.9.7"
  }
 },
 "nbformat": 4,
 "nbformat_minor": 4
}
