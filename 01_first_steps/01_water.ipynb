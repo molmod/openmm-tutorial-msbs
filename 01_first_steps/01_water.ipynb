{
 "cells": [
  {
   "cell_type": "markdown",
   "metadata": {},
   "source": [
    "# First simulation with OpenMM\n",
    "\n",
    "## 1. Force field definition and energy minimization\n",
    "\n",
    "The first simulation below is a minimal example of a molecular system: just a single water molecule. Initially, only the energy of this system is minimized.\n",
    "This example consists of a few steps:\n",
    "\n",
    "### Import OpenMM and NumPy python packages\n",
    "\n",
    "These packages must be imported before one can use OpenMM.\n",
    "In this notbook NumPy is only used to define an array with initial positions and to analyze simulation results.\n",
    "\n",
    "You should get a warning related to simtk, which you can ignore."
   ]
  },
  {
   "cell_type": "code",
   "execution_count": null,
   "metadata": {},
   "outputs": [],
   "source": [
    "from sys import stdout\n",
    "\n",
    "import matplotlib.pyplot as plt\n",
    "import mdtraj\n",
    "import nglview\n",
    "import numpy as np\n",
    "import pandas\n",
    "from openmm import *\n",
    "from openmm.app import *\n",
    "from openmm.unit import *"
   ]
  },
  {
   "cell_type": "markdown",
   "metadata": {},
   "source": [
    "### Units\n",
    "\n",
    "OpenMM uses internally consistent units based on the SI system, as documented [here](http://docs.openmm.org/latest/userguide/theory.html#units).\n",
    "One may easily convert values with different unit, as shown in the examples below."
   ]
  },
  {
   "cell_type": "code",
   "execution_count": null,
   "metadata": {},
   "outputs": [],
   "source": [
    "# Assign a value of 10 picoseconds\n",
    "time = 10 * picosecond  # 10 * picoseconds will also work.\n",
    "print(\"Unit of variable time:\", time.unit)\n",
    "print(\"time:\", time)\n",
    "print(\"time [s]:\", time / second)\n",
    "print(\"time [s]:\", time / seconds)\n",
    "print(\"time [fs]:\", time.value_in_unit(femtosecond))\n",
    "print(\"time:\", time.in_units_of(femtosecond))\n",
    "\n",
    "# OpenMM also knows a few important constants.\n",
    "print(\"Boltzmann's constant:\", BOLTZMANN_CONSTANT_kB)\n",
    "print(\"Avogadro's constant:\", AVOGADRO_CONSTANT_NA)"
   ]
  },
  {
   "cell_type": "markdown",
   "metadata": {},
   "source": [
    "The API documentation for quantities with units can be found here:\n",
    "\n",
    "http://docs.openmm.org/latest/api-python/generated/openmm.unit.quantity.Quantity.html\n",
    "\n",
    "A complete overview of units and constant can be found in the Python wrapper source code for OpenMM: \n",
    "\n",
    "* Units: https://github.com/openmm/openmm/blob/master/wrappers/python/openmm/unit/unit_definitions.py\n",
    "* Constants: https://github.com/openmm/openmm/blob/master/wrappers/python/openmm/unit/constants.py\n",
    "\n",
    "**<span style=\"color:#A03;font-size:14pt\">\n",
    "&#x270B; HANDS-ON! &#x1F528;\n",
    "</span>**\n",
    "\n",
    "> - Try to change (femto)second(s) in (femto)meter(s) in the above example. Why does this work or fail in each case?\n",
    ">\n",
    "> - Print $k_B T$ in $\\textrm{kJ}\\,\\textrm{mol}^{-1}$, where $k_B$ is the gas constant and $T=293.15\\,\\textrm{K}$. This is the average amount of (kinetic and potential) thermal energy per degree of freedom in a system, at room temperature.\n",
    ">\n",
    "> - Use the Boltzmann constant and the Avogadro constant to express the universal gas constant in $\\textrm{kJ}\\,\\textrm{K}^{-1}\\,\\textrm{mol}^{-1}$."
   ]
  },
  {
   "cell_type": "markdown",
   "metadata": {},
   "source": [
    "### Define the topology\n",
    "\n",
    "In normal OpenMM usage, the topology is defined by a PDB file.\n",
    "In this example, it is defined from scratch by creating objects in Python code, to show explicitly how the topology is built up.\n",
    "Similar data structures are created when loading topologies from files.\n",
    "\n",
    "Note that a topology in biomolecular simulations consists of a group of chains, where a chain consists of multiple residues and every residue contains a set of atoms, which are connected by bonds.\n",
    "This terminology was originally defined for describing proteins in the PDB file format, see http://www.wwpdb.org/documentation/file-format.\n",
    "In biomolecular simulations, the same terminology is nowadays also used for other things than proteins.\n",
    "For example, here we have a chain with a single residue, a water molecule, containing three atoms and two bonds."
   ]
  },
  {
   "cell_type": "code",
   "execution_count": null,
   "metadata": {},
   "outputs": [],
   "source": [
    "topology = Topology()\n",
    "chain = topology.addChain()\n",
    "residue = topology.addResidue(\"water\", chain)\n",
    "element_O = Element.getByAtomicNumber(8)\n",
    "element_H = Element.getByAtomicNumber(1)\n",
    "atom0 = topology.addAtom(\"O\", element_O, residue)\n",
    "atom1 = topology.addAtom(\"H\", element_H, residue)\n",
    "atom2 = topology.addAtom(\"H\", element_H, residue)\n",
    "topology.addBond(atom0, atom1)\n",
    "topology.addBond(atom0, atom2)"
   ]
  },
  {
   "cell_type": "markdown",
   "metadata": {},
   "source": [
    "### Set up the simulation\n",
    "\n",
    "This part consists of a few steps:\n",
    "\n",
    "1. Select the TIP3P-FB **force field definition** for water, see https://doi.org/10.1021/jz500737m. The file `tip3pfb.xml` is included in the OpenMM installation. It's contents can also be viewed online, see https://github.com/openmm/openmm/blob/master/wrappers/python/openmm/app/data/amber14/tip3pfb.xml\n",
    "\n",
    "1. Define a **system**, which is essentially an object implementing the selected force field for our topology. This object can compute energies and forces.\n",
    "\n",
    "1. Define an **integrator**, which implements a molecular dynamics algorithm, in this case the Verlet algorithm sampling the NVE ensemble. Even though we will initially only carry out a geometry optimization, OpenMM requires us to define an integrator.\n",
    "\n",
    "1. Define a **simulation**, which has the following responsibilities:\n",
    "\n",
    "   - keep track of the current state (atomic positions etc.), \n",
    "   \n",
    "   - decide which implementation to use (CPU versus GPU)\n",
    "   \n",
    "   - drive the integrator and \n",
    "   \n",
    "   - write output files (reporters).\n",
    "  \n",
    "This simple example does not write any output yet. The initial positions are provided as a NumPy array, multiplied by a unit. Each row in the array contains the X, Y and Z coordinates of one atomic nucleus, in the same order as the atoms in the topology. Normally, also these initial positions are loaded from a PDB file."
   ]
  },
  {
   "cell_type": "code",
   "execution_count": null,
   "metadata": {},
   "outputs": [],
   "source": [
    "# a. Select the TIP3P-FB force field.\n",
    "forcefield = ForceField('amber14/tip3pfb.xml')\n",
    "\n",
    "# b. Create an object to compute energies and forces for our topology.\n",
    "system = forcefield.createSystem(topology, nonbondedCutoff=1*nanometer)\n",
    "\n",
    "# c. Definition an integrator, mandatory.\n",
    "integrator = VerletIntegrator(1 * femtoseconds)\n",
    "\n",
    "# d. A simulation object in OpenMM combines topology, system and integrator.\n",
    "simulation = Simulation(topology, system, integrator)\n",
    "simulation.context.setPositions(np.array([\n",
    "    [0.0, 0.0, 0.0],\n",
    "    [0.0, 0.0, 1.0],\n",
    "    [0.0, 1.0, 0.0],\n",
    "]) * angstroms)"
   ]
  },
  {
   "cell_type": "markdown",
   "metadata": {},
   "source": [
    "### Minimize the energy\n",
    "\n",
    "Also this part is split up in a few steps:\n",
    "\n",
    "1. Before minimizing, compute and print the **energy** of the **initial** state.\n",
    "\n",
    "1. **Minimize** the energy. This is a black-box procedure, using the L-BFGS algorithm.\n",
    "   Tracking the progress during the minimization is not possible yet, see https://github.com/openmm/openmm/issues/1155.\n",
    "\n",
    "1. Compute and print the **energy** of the **final** state."
   ]
  },
  {
   "cell_type": "code",
   "execution_count": null,
   "metadata": {},
   "outputs": [],
   "source": [
    "# a. Print the energy before minimizing.\n",
    "state0 = simulation.context.getState(getEnergy=True)\n",
    "print(state0.getPotentialEnergy())\n",
    "\n",
    "# b. Minimize the energy.\n",
    "simulation.minimizeEnergy()\n",
    "\n",
    "# c. Print the energy afterwards.\n",
    "state1 = simulation.context.getState(getEnergy=True)\n",
    "print(state1.getPotentialEnergy())"
   ]
  },
  {
   "cell_type": "markdown",
   "metadata": {},
   "source": [
    "## 2. Inspection of OpenMM data structures\n",
    "\n",
    "Before performing other simulations, we take a closer look at the objects created in the previous example to understand how OpenMM works. To access the internals, we use the so-called Python Application Programming Interface (API) of OpenMM, which is documented here: http://docs.openmm.org/latest/api-python/index.html.\n",
    "\n",
    "The API documentation contains tables with class names, like `Topology`, and there corresponding purpose. Clicking on the class name brings you to a page with more details."
   ]
  },
  {
   "cell_type": "markdown",
   "metadata": {},
   "source": [
    "### Topology\n",
    "\n",
    "The `Topology` class is documented here: http://docs.openmm.org/latest/api-python/generated/openmm.app.topology.Topology.html#openmm.app.topology.Topology"
   ]
  },
  {
   "cell_type": "code",
   "execution_count": null,
   "metadata": {},
   "outputs": [],
   "source": [
    "# The print lines below show details of the topology.\n",
    "print(topology)\n",
    "print(\"Number of atoms:\", topology.getNumAtoms())\n",
    "print(\"Periodic boundaries:\", topology.getUnitCellDimensions())\n",
    "for iatom, atom in enumerate(topology.atoms()):\n",
    "    # The following-line would just print a dictionary\n",
    "    # with all attributes, useful to explore undocumented\n",
    "    # attributes.\n",
    "    # print(vars(atom))\n",
    "    print(\"Name and mass of atom {}: {}, {}\".format(\n",
    "        iatom, atom.name, atom.element.mass))"
   ]
  },
  {
   "cell_type": "markdown",
   "metadata": {},
   "source": [
    "**<span style=\"color:#A03;font-size:14pt\">\n",
    "&#x270B; HANDS-ON! &#x1F528;\n",
    "</span>**\n",
    "\n",
    "> Extend the code cell above to loop over the bonds and to print the corresponding pair of atoms."
   ]
  },
  {
   "cell_type": "markdown",
   "metadata": {},
   "source": [
    "### System\n",
    "\n",
    "The relevant API documentation can be found here:\n",
    "\n",
    "* `System` class: http://docs.openmm.org/latest/api-python/generated/openmm.openmm.System.html#openmm.openmm.System\n",
    "* `HarmonicBondForce` class: http://docs.openmm.org/latest/api-python/generated/openmm.openmm.HarmonicBondForce.html#openmm.openmm.HarmonicBondForce"
   ]
  },
  {
   "cell_type": "code",
   "execution_count": null,
   "metadata": {},
   "outputs": [],
   "source": [
    "# Loop over all contributions to the force evaluation.\n",
    "# Note that not all terms are real force-field contributions.\n",
    "# The last one zeros to center-of-mass momentum at every step.\n",
    "for force in system.getForces():\n",
    "    print(force)\n",
    "print()\n",
    "# The force field contains two harmonic bond terms,\n",
    "# with the same parameters.\n",
    "force_bond = system.getForce(0)\n",
    "for ibond in range(force_bond.getNumBonds()):\n",
    "    print(force_bond.getBondParameters(ibond))\n",
    "    print()"
   ]
  },
  {
   "cell_type": "markdown",
   "metadata": {},
   "source": [
    "**<span style=\"color:#A03;font-size:14pt\">\n",
    "&#x270B; HANDS-ON! &#x1F528;\n",
    "</span>**\n",
    "\n",
    "> Add code to show the angle force terms of the system and the corresponding parameters. Do these match the definition of the force field in the `tip3pfb.xml` file?"
   ]
  },
  {
   "cell_type": "markdown",
   "metadata": {},
   "source": [
    "### System state\n",
    "\n",
    "A `Simulation` object has a `context` attribute, through which many details of the simulation can be accessed. Here we use it to retrieve the current state of our molecular model. The `Context` class is documented here: http://docs.openmm.org/latest/api-python/generated/openmm.openmm.Context.html#openmm.openmm.Context\n",
    "\n",
    "Below, the `getState` method retrieves a `State` object with results for the final geometry of the water molecule. The `State` class is documented here: http://docs.openmm.org/latest/api-python/generated/openmm.openmm.State.html#openmm.openmm.State"
   ]
  },
  {
   "cell_type": "code",
   "execution_count": null,
   "metadata": {},
   "outputs": [],
   "source": [
    "# Simply extract and print information\n",
    "state = simulation.context.getState(\n",
    "    getPositions=True, getForces=True, getEnergy=True)\n",
    "print(\"Potential energy: \", state.getPotentialEnergy())\n",
    "print()\n",
    "print(\"Atomic positions\")\n",
    "print(state.getPositions(asNumpy=True))\n",
    "print()\n",
    "print(\"Forces\")\n",
    "print(state.getForces(asNumpy=True))\n",
    "print()"
   ]
  },
  {
   "cell_type": "code",
   "execution_count": null,
   "metadata": {},
   "outputs": [],
   "source": [
    "# One can use NumPy to get a few geometry properties:\n",
    "\n",
    "# The length of the first O-H bond, in nanometers.\n",
    "pos = state.getPositions(asNumpy=True)\n",
    "print(np.linalg.norm(pos[1] - pos[0]))\n",
    "\n",
    "# The H-O-H angle, in degrees\n",
    "d01 = pos[1] - pos[0]\n",
    "d02 = pos[2] - pos[0]\n",
    "d01 /= np.linalg.norm(d01)\n",
    "d02 /= np.linalg.norm(d02)\n",
    "cosine = np.dot(d01, d02)\n",
    "print(np.arccos(cosine)*180/np.pi)"
   ]
  },
  {
   "cell_type": "markdown",
   "metadata": {},
   "source": [
    "## 3. PDB output and visualization\n",
    "\n",
    "The following is a minimal example writing out the current positions to a PDB file, after which NGLView is used to visualize the structure. See http://nglviewer.org/nglview/latest/."
   ]
  },
  {
   "cell_type": "code",
   "execution_count": null,
   "metadata": {},
   "outputs": [],
   "source": [
    "# NGLView is a structure and trajectory visualization that integrates well with Jupyter Notebooks.\n",
    "\n",
    "# Write out a PDB file\n",
    "with open('water.pdb', 'w') as outfile:\n",
    "    PDBFile.writeFile(topology, pos, outfile)\n",
    "# Visualize\n",
    "nglview.show_mdtraj(mdtraj.load('water.pdb'))"
   ]
  },
  {
   "cell_type": "markdown",
   "metadata": {},
   "source": [
    "**<span style=\"color:#A03;font-size:14pt\">\n",
    "&#x270B; HANDS-ON! &#x1F528;\n",
    "</span>**\n",
    "\n",
    "> Check the contents of the file `water.pdb`. It should contain the Cartesian coordinates of the optimized geometry."
   ]
  },
  {
   "cell_type": "markdown",
   "metadata": {},
   "source": [
    "## 4. A short molecular dynamics simulation\n",
    "\n",
    "In the code cells above, a verlet integrator was defined, which we will use in this section.\n",
    "\n",
    "Before performing the MD, some more initialization steps are needed:\n",
    "\n",
    "- Velocities are assigned random values sampled from the Maxwell-Boltzmann distribution.\n",
    "\n",
    "- Three reporters are attached to the simulation to store the output in files and to track the progress on screen. The reporter API is documented here: http://docs.openmm.org/latest/api-python/app.html#reporting-output"
   ]
  },
  {
   "cell_type": "code",
   "execution_count": null,
   "metadata": {},
   "outputs": [],
   "source": [
    "# Initialize velocities with random values at 300K.\n",
    "# The random seed is fixed (to 1). This way, rerunning\n",
    "# this cell will generate the same random velocities.\n",
    "simulation.context.setVelocitiesToTemperature(300, 1)\n",
    "\n",
    "# Remove existing reporters,\n",
    "# in case this cell is executed more than once.\n",
    "simulation.reporters = []\n",
    "\n",
    "# Write a frame to the PDB trajectory every step.\n",
    "simulation.reporters.append(PDBReporter('traj.pdb', 1))\n",
    "\n",
    "# Write scalar properties to a CSV file every step.\n",
    "simulation.reporters.append(StateDataReporter(\n",
    "    \"scalars.csv\",\n",
    "    1,\n",
    "    time=True,\n",
    "    potentialEnergy=True,\n",
    "    totalEnergy=True,\n",
    "    temperature=True))\n",
    "\n",
    "# Write scalar properties to screen every 100 steps.\n",
    "simulation.reporters.append(StateDataReporter(\n",
    "    stdout,\n",
    "    100,\n",
    "    step=True,\n",
    "    totalEnergy=True,\n",
    "    temperature=True))\n",
    "\n",
    "# Actually run the molecular dynamics simulation.\n",
    "simulation.step(1000)"
   ]
  },
  {
   "cell_type": "markdown",
   "metadata": {},
   "source": [
    "We will load the trajectory again with MDTraj and pass on this information to nglview to visualize the motion of the water molecule. See http://mdtraj.org/."
   ]
  },
  {
   "cell_type": "code",
   "execution_count": null,
   "metadata": {},
   "outputs": [],
   "source": [
    "nglview.show_mdtraj(mdtraj.load('traj.pdb'))"
   ]
  },
  {
   "cell_type": "markdown",
   "metadata": {},
   "source": [
    "The following example shows how to load the data from the CSV file and plot it, using Pandas. Under the hood pandas uses MatPlotLib to make the figure. In the example below, two curves are put on the same plot by plotting them in the same MatPlotLib axes.\n",
    "\n",
    "See https://pandas.pydata.org/ and https://matplotlib.org/.\n",
    "\n",
    "Because the OpenMM write slightly non-standard CSV output, the header of the first column contains a few spurious characters."
   ]
  },
  {
   "cell_type": "code",
   "execution_count": null,
   "metadata": {},
   "outputs": [],
   "source": [
    "df = pandas.read_csv(\"scalars.csv\")\n",
    "# To show the contents of a Pandas Dataframe, just put\n",
    "# the variable on the last line.\n",
    "df"
   ]
  },
  {
   "cell_type": "code",
   "execution_count": null,
   "metadata": {},
   "outputs": [],
   "source": [
    "# Plot the potential and total energy as function of time.\n",
    "ax = plt.gca()\n",
    "df.plot(kind='line', x='#\"Time (ps)\"', y='Potential Energy (kJ/mole)', ax=ax)\n",
    "df.plot(kind='line', x='#\"Time (ps)\"', y='Total Energy (kJ/mole)', ax=ax)"
   ]
  },
  {
   "cell_type": "code",
   "execution_count": null,
   "metadata": {},
   "outputs": [],
   "source": [
    "df.plot(kind='line', x='#\"Time (ps)\"', y='Temperature (K)')"
   ]
  },
  {
   "cell_type": "markdown",
   "metadata": {},
   "source": [
    "The oscillations in the potential energy are normal. Due to the molecular vibrations, there is a continuous exchange between kinetic and potential energy. In principle, the total energy should be conserved exactly. In simulations, it is only approximately conserved because the Velocity Verlet scheme uses a finite-difference approximation. For practical applications, it is sufficient to observe no systematic drift in the conserved quantity.\n",
    "\n",
    "**<span style=\"color:#A03;font-size:14pt\">\n",
    "&#x270B; HANDS-ON! &#x1F528;\n",
    "</span>**\n",
    "\n",
    "> Experiment with this notebook to get some experience with molecular dynamics simulations:\n",
    ">\n",
    "> - The timestep is set to $1 \\text{ fs}$ when creating the `VerletIntegrator` object. Increase the time step until the total energy is no longer conserved. What happens?\n",
    ">\n",
    "> - Replace the `VerletIntegrator` by a `LangevinIntegrator` at a temperature of 300 Kelvin, with a friction coefficient of 10 inverse picoseconds and step size of 1 femtosecond. The API documentation can be found here: http://docs.openmm.org/latest/api-python/generated/openmm.openmm.LangevinIntegrator.html#openmm.openmm.LangevinIntegrator\n",
    ">\n",
    "> - Make modifications to the topology to understand which parts are essential to generate the system object with the correct parameters. Try making changes to: (i) the atom names, (ii) the element numbers, (iii) the bonds, (iv) the name of the residue and (v) the order of the atoms."
   ]
  }
 ],
 "metadata": {
  "kernelspec": {
   "display_name": "Python 3 (ipykernel)",
   "language": "python",
   "name": "python3"
  },
  "language_info": {
   "codemirror_mode": {
    "name": "ipython",
    "version": 3
   },
   "file_extension": ".py",
   "mimetype": "text/x-python",
   "name": "python",
   "nbconvert_exporter": "python",
   "pygments_lexer": "ipython3",
   "version": "3.9.7"
  },
  "latex_envs": {
   "LaTeX_envs_menu_present": true,
   "autoclose": true,
   "autocomplete": true,
   "bibliofile": "biblio.bib",
   "cite_by": "apalike",
   "current_citInitial": 1,
   "eqLabelWithNumbers": true,
   "eqNumInitial": 1,
   "hotkeys": {
    "equation": "Ctrl-E",
    "itemize": "Ctrl-I"
   },
   "labels_anchors": false,
   "latex_user_defs": false,
   "report_style_numbering": false,
   "user_envs_cfg": false
  }
 },
 "nbformat": 4,
 "nbformat_minor": 4
}
