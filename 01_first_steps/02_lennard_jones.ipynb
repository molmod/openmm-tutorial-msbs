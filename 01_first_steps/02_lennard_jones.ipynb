{
 "cells": [
  {
   "cell_type": "markdown",
   "metadata": {},
   "source": [
    "# Noble gas with the Lennard-Jones potential\n",
    "\n",
    "This notebook shows how to simulate the simplest possible system for which a constant pressure and temperature (NpT) simulation makes sense. This system is a set of 199 argon atoms in a periodic box at $1\\,\\textrm{bar}$ and at $300\\,\\textrm{K}$.\n",
    "\n",
    "Because argon is a noble gas, the force field is relatively simple: no bonds need to be defined (unlike the water example) and all inter-atomic interactions can be modeled with the [Lennard-Jones potential](https://en.wikipedia.org/wiki/Lennard-Jones_potential)."
   ]
  },
  {
   "cell_type": "code",
   "execution_count": null,
   "metadata": {},
   "outputs": [],
   "source": [
    "from sys import stdout\n",
    "\n",
    "import matplotlib.pyplot as plt\n",
    "import mdtraj\n",
    "import nglview\n",
    "import numpy as np\n",
    "import pandas\n",
    "from openmm import *\n",
    "from openmm.app import *\n",
    "from openmm.unit import *"
   ]
  },
  {
   "cell_type": "markdown",
   "metadata": {},
   "source": [
    "## 1. Definition of the model\n",
    "\n",
    "The Lennard-Jones parameters were taken from [10.1063/1.479848](https://doi.org/10.1063/1.479848), more specifically the parameters from this paper which exactly reproduce the experimental critical point."
   ]
  },
  {
   "cell_type": "code",
   "execution_count": null,
   "metadata": {},
   "outputs": [],
   "source": [
    "# Physical parameters\n",
    "temperature = 293.15 * kelvin\n",
    "pressure = 1 * bar\n",
    "mass = 39.948 * amu\n",
    "sigma = 3.419 * angstrom\n",
    "epsilon = 117.8 * kelvin * BOLTZMANN_CONSTANT_kB * AVOGADRO_CONSTANT_NA\n",
    "print(epsilon)\n",
    "\n",
    "# Simulation parameters\n",
    "box_size = 150 * angstrom  # initial value only\n",
    "natom = 199\n",
    "cutoff = 3 * sigma"
   ]
  },
  {
   "cell_type": "markdown",
   "metadata": {},
   "source": [
    "## 2. The NpT molecular dynamics simulation\n",
    "\n",
    "In the following cell, we define the `system`, `topology` and `force` objects. They each keep track of a specific aspect of the simulation we'd like to carry out:\n",
    "\n",
    "- `system`: cell vectors and number of particles and their masses.\n",
    "\n",
    "- `topology`: identity of the particles and related information (mostly irrelevant in this case): covalent bonds, residues and chains. All argon atoms are grouped into one residue in one chain. This extra information is needed to write out PDB files later.\n",
    "\n",
    "- `force`: definition of the force field energy as function of particle positions and cell vectors. This example uses [NonbondedForce](http://docs.openmm.org/latest/api-python/generated/openmm.openmm.NonbondedForce.html#openmm.openmm.NonbondedForce) to define a Lennard-Jones potential (setting cutoff, switching and pressure correction)."
   ]
  },
  {
   "cell_type": "code",
   "execution_count": null,
   "metadata": {},
   "outputs": [],
   "source": [
    "# Define the OpenMM system with the argon atoms.\n",
    "system = System()\n",
    "box_matrix = box_size * np.identity(3)\n",
    "system.setDefaultPeriodicBoxVectors(*box_matrix)\n",
    "for iatom in range(natom):\n",
    "    system.addParticle(mass)\n",
    "\n",
    "# Define a relatively boring topology object.\n",
    "topology = Topology()\n",
    "topology.setPeriodicBoxVectors(box_matrix)\n",
    "chain = topology.addChain()\n",
    "residue = topology.addResidue(\"argon\", chain)\n",
    "element_Ar = Element.getByAtomicNumber(18)\n",
    "for iatom in range(natom):\n",
    "    topology.addAtom(\"Ar\", element_Ar, residue)\n",
    "\n",
    "# Define the force field as a \"force\" object to be added to the system.\n",
    "force = openmm.NonbondedForce()\n",
    "force.setNonbondedMethod(openmm.NonbondedForce.CutoffPeriodic)\n",
    "for iatom in range(natom):\n",
    "    force.addParticle(0.0, sigma, epsilon)\n",
    "force.setCutoffDistance(cutoff)\n",
    "force.setUseSwitchingFunction(True)\n",
    "force.setSwitchingDistance(0.8 * cutoff)\n",
    "force.setUseDispersionCorrection(True)\n",
    "force_index = system.addForce(force)"
   ]
  },
  {
   "cell_type": "markdown",
   "metadata": {},
   "source": [
    "The following cell specifies more details of the NpT molecular dynamics simulation. Conveying our choice of ensemble to OpenMM may not be very intuitive:\n",
    "\n",
    "- The thermostat is set by selecting the [LangevinIntegrator](http://docs.openmm.org/latest/api-python/generated/openmm.openmm.LangevinIntegrator.html#openmm.openmm.LangevinIntegrator) to integrate the equations of motion. With this choice, a constant temperature is imposed modeling the interaction of every atom with a heat bath, comprising two effects: (i) a friction force which leaks kinetic energy and (ii) random collisions that introduce kinetic energy. These two effects balance each other and reach an equilibrium when the atomistic degrees of freedom reach the desired temperature.\n",
    "\n",
    "- The barostat is defined as a *force*, i.e. [MonteCarloBarostat](http://docs.openmm.org/latest/api-python/generated/openmm.openmm.MonteCarloBarostat.html#openmm.openmm.MonteCarloBarostat) is added to the list of force in the system. Here the same temperature as the thermostat must be given, in addition to the desired external pressure. With this option, the volume of the periodic box will be regularly rescaled to obtain an equilibrium between the internal pressure (generated by the argon atoms) and the external pressure.\n",
    "\n",
    "The barostat is implemented as a force, mainly because the \"forces\" in an OpenMM `System` object can also perform other tasks than computing potential energies and atomic forces. They may also modify properties of the system, such as cell vectors, atomic positions, atomic velocities, etc.\n",
    "\n",
    "The last three lines of Python code prepare the initial state of the system."
   ]
  },
  {
   "cell_type": "code",
   "execution_count": null,
   "metadata": {},
   "outputs": [],
   "source": [
    "# Define the ensemble to be simulated in.\n",
    "integrator = LangevinIntegrator(temperature, 1/picosecond, 2*femtoseconds)\n",
    "system.addForce(MonteCarloBarostat(pressure, temperature))\n",
    "\n",
    "# Define a simulation object.\n",
    "simulation = Simulation(topology, system, integrator)\n",
    "\n",
    "# Initialization steps before MD.\n",
    "# - Asign random positions\n",
    "simulation.context.setPositions(np.random.uniform(\n",
    "    0, box_size/angstrom, (natom, 3))*angstrom)\n",
    "# - Minimize the energy\n",
    "simulation.minimizeEnergy()\n",
    "# - Initialize velocities with random values at 300K.\n",
    "simulation.context.setVelocitiesToTemperature(300)"
   ]
  },
  {
   "cell_type": "markdown",
   "metadata": {},
   "source": [
    "The following cell defines all reporters and performs the MD simulation."
   ]
  },
  {
   "cell_type": "code",
   "execution_count": null,
   "metadata": {},
   "outputs": [],
   "source": [
    "# Remove existing reporters, in case this cell is executed more than once.\n",
    "simulation.reporters = []\n",
    "\n",
    "# Write the initial geometry as a PDB file.\n",
    "positions = simulation.context.getState(getPositions=True).getPositions()\n",
    "with open('ljinit.pdb', 'w') as f:\n",
    "    PDBFile.writeFile(simulation.topology, positions, f)\n",
    "\n",
    "# Write a frame to the DCD trajectory every 100 steps.\n",
    "simulation.reporters.append(DCDReporter('ljtraj.dcd', 100))\n",
    "\n",
    "# Write scalar properties to a CSV file every 10 steps.\n",
    "simulation.reporters.append(StateDataReporter(\n",
    "    \"ljscalars.csv\",\n",
    "    10,\n",
    "    time=True,\n",
    "    potentialEnergy=True,\n",
    "    totalEnergy=True,\n",
    "    temperature=True,\n",
    "    volume=True))\n",
    "\n",
    "# Write scalar properties to screen every 1000 steps.\n",
    "simulation.reporters.append(StateDataReporter(\n",
    "    stdout,\n",
    "    1000,\n",
    "    step=True,\n",
    "    temperature=True,\n",
    "    volume=True))\n",
    "\n",
    "# Actually run the molecular dynamics simulation.\n",
    "simulation.step(30000)\n",
    "\n",
    "# The last line is only needed for Windows users,\n",
    "# to close the DCD file before it can be opened by nglview.\n",
    "del simulation"
   ]
  },
  {
   "cell_type": "markdown",
   "metadata": {},
   "source": [
    "## 3. Analysis\n",
    "\n",
    "A visualization of the trajectory is not very exciting: just argon atoms jumping around. As you may guess, this is a simulation of an argon gas.\n",
    "\n",
    "**TODO:** the box size in nglview does not expand, even though it does in the OpenMM simulation. This is a visualization issue."
   ]
  },
  {
   "cell_type": "code",
   "execution_count": null,
   "metadata": {},
   "outputs": [],
   "source": [
    "traj = mdtraj.load(\"ljtraj.dcd\", top=\"ljinit.pdb\")\n",
    "view = nglview.show_mdtraj(traj)\n",
    "view.add_unitcell()\n",
    "view"
   ]
  },
  {
   "cell_type": "markdown",
   "metadata": {},
   "source": [
    "The temperature and volume as function of time reveal different time scales needed for the equilibration.\n",
    "\n",
    "- The timescale of the thermostat is controlled with the second argument of [LangevinIntegrator](http://docs.openmm.org/latest/api-python/generated/openmm.openmm.LangevinIntegrator.html#openmm.openmm.LangevinIntegrator).\n",
    "\n",
    "- The rate of convergence of the barostat is controlled by the optional `frequency` argument, by default 25, of the [MonteCarloBarostat](http://docs.openmm.org/latest/api-python/generated/openmm.openmm.MonteCarloBarostat.html#openmm.openmm.MonteCarloBarostat). This means that every 25 steps, an attempt is made to change the volume of the system."
   ]
  },
  {
   "cell_type": "code",
   "execution_count": null,
   "metadata": {},
   "outputs": [],
   "source": [
    "df = pandas.read_csv(\"ljscalars.csv\")\n",
    "df.plot(kind='line', x='#\"Time (ps)\"', y='Temperature (K)')\n",
    "df.plot(kind='line', x='#\"Time (ps)\"', y='Box Volume (nm^3)')"
   ]
  },
  {
   "cell_type": "markdown",
   "metadata": {},
   "source": [
    "\n",
    "**<span style=\"color:#A03;font-size:14pt\">\n",
    "&#x270B; HANDS-ON! &#x1F528;\n",
    "</span>**\n",
    "\n",
    "> - Slow down the thermostat and speed up the barostat. Can you make arbitrary changes without crashing the molecular dynamics run?\n",
    ">\n",
    "> - Change to pressure to $10\\,\\textrm{bar}$ and the temperature to $50\\,\\textrm{K}$. Under these conditions, argon becomes a solid, see e.g. [Figure 1](https://www.nature.com/articles/srep15850/figures/1) of [10.1038/srep15850](https://doi.org/10.1038/srep15850). You will also have to change other parameters to make this work. Do you see any signs in your simulation of a phase transition?"
   ]
  }
 ],
 "metadata": {
  "kernelspec": {
   "display_name": "Python 3 (ipykernel)",
   "language": "python",
   "name": "python3"
  },
  "language_info": {
   "codemirror_mode": {
    "name": "ipython",
    "version": 3
   },
   "file_extension": ".py",
   "mimetype": "text/x-python",
   "name": "python",
   "nbconvert_exporter": "python",
   "pygments_lexer": "ipython3",
   "version": "3.9.7"
  },
  "latex_envs": {
   "LaTeX_envs_menu_present": true,
   "autoclose": true,
   "autocomplete": true,
   "bibliofile": "biblio.bib",
   "cite_by": "apalike",
   "current_citInitial": 1,
   "eqLabelWithNumbers": true,
   "eqNumInitial": 1,
   "hotkeys": {
    "equation": "Ctrl-E",
    "itemize": "Ctrl-I"
   },
   "labels_anchors": false,
   "latex_user_defs": false,
   "report_style_numbering": false,
   "user_envs_cfg": false
  }
 },
 "nbformat": 4,
 "nbformat_minor": 4
}
