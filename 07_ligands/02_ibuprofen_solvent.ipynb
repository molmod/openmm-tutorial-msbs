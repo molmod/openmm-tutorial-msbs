{
 "cells": [
  {
   "cell_type": "markdown",
   "metadata": {},
   "source": [
    "# Solvated Ibuprofen\n",
    "\n",
    "This notebook shows how to set up a simulation cell of two solvated ibuprofen molecules, using the same [Open Force Field (OFF)](https://openforcefield.org/) toolkit as in `01_ibuprofen_gas_phase.ipynb`.\n",
    "\n",
    "The imports below will generate a warning that you can safely ignore."
   ]
  },
  {
   "cell_type": "code",
   "execution_count": null,
   "metadata": {},
   "outputs": [],
   "source": [
    "# Python built-in modules\n",
    "from sys import stdout\n",
    "\n",
    "# Popular scientific packages for Python\n",
    "import matplotlib.pyplot as plt\n",
    "import mdtraj\n",
    "# MD related packages\n",
    "import nglview\n",
    "import numpy as np\n",
    "# OpenFF package.\n",
    "# Do not use from openff.xxx import ... to avoid name collisions.\n",
    "import openff.toolkit.topology\n",
    "import openff.toolkit.typing.engines.smirnoff\n",
    "import openmmforcefields.generators\n",
    "# Other utilities for setting up the\n",
    "import openmoltools\n",
    "import pandas\n",
    "import requests\n",
    "# Custom functions defined in the current directory\n",
    "from ligands import *\n",
    "from openmm import *\n",
    "from openmm.app import *\n",
    "from openmm.unit import *"
   ]
  },
  {
   "cell_type": "markdown",
   "metadata": {},
   "source": [
    "## 1. Download and convert molecules from PubChem"
   ]
  },
  {
   "cell_type": "code",
   "execution_count": null,
   "metadata": {},
   "outputs": [],
   "source": [
    "# Provide the PubChem compound IDs as strings:\n",
    "cids = [\n",
    "    \"3672\",  # ibuprofen\n",
    "    \"962\",   # water\n",
    "]\n",
    "# Residue names to be used in the PDB files\n",
    "resnames = [\n",
    "    \"IBU\",\n",
    "    \"HOH\",\n",
    "]\n",
    "# Number of times each molecule is added to the simulation cell.\n",
    "num_molecules = [\n",
    "    2,\n",
    "    500\n",
    "]"
   ]
  },
  {
   "cell_type": "code",
   "execution_count": null,
   "metadata": {},
   "outputs": [],
   "source": [
    "fns_sdf = []\n",
    "fns_pdb = []\n",
    "for cid, resname in zip(cids, resnames):\n",
    "    # Download the SDF file if not present yet.\n",
    "    fn_sdf = f\"CID_{cid}.sdf\"\n",
    "    if not os.path.isfile(fn_sdf):\n",
    "        url = f\"https://pubchem.ncbi.nlm.nih.gov/rest/pug/compound/CID/{cid}/record/SDF/?record_type=3d&response_type=save\"\n",
    "        with open(fn_sdf, \"w\") as f:\n",
    "            f.write(requests.get(url).text)\n",
    "    fn_pdb = f\"CID_{cid}.pdb\"\n",
    "    convert_sdf_to_pdb(fn_sdf, fn_pdb, resname)\n",
    "    fns_sdf.append(fn_sdf)\n",
    "    fns_pdb.append(fn_pdb)"
   ]
  },
  {
   "cell_type": "markdown",
   "metadata": {},
   "source": [
    "## 2. Build the explicit solvent model with packmol\n",
    "\n",
    "Packmol is a tool to place molecules at random positions into a simulation cell, without any overlap. We use it here to generate random mixtures, but it can also be used for more advanced setups. See http://m3g.iqm.unicamp.br/packmol/home.shtml"
   ]
  },
  {
   "cell_type": "code",
   "execution_count": null,
   "metadata": {
    "tags": []
   },
   "outputs": [],
   "source": [
    "# approximate volumes of solute and solvent, needed to estimate the initial box size.\n",
    "volumes = [estimate_volume(fn_pdb) for fn_pdb in fns_pdb]\n",
    "print(\"Volumes [Å^3]:\", volumes)\n",
    "total_volume = np.dot(volumes, num_molecules)\n",
    "box_size = total_volume ** (1.0 / 3.0)\n",
    "print(\"Box size [Å]:\", box_size)\n",
    "\n",
    "# Run packmol through the openmoltools wrapper.\n",
    "print(\"--- Packmol input ---\")\n",
    "traj_packmol = openmoltools.packmol.pack_box(\n",
    "    fns_pdb, num_molecules, box_size=box_size)\n",
    "traj_packmol.save_pdb(\"packmol_02.pdb\")"
   ]
  },
  {
   "cell_type": "markdown",
   "metadata": {},
   "source": [
    "As you can see in the visualization of the initial structure below, the simulation cell contains a vacuum edge, which is due to a limitation of packmol. This is not a problem since the system will be equilibrated with NpT molecular dynamics, which will gradually adjust the cell size."
   ]
  },
  {
   "cell_type": "code",
   "execution_count": null,
   "metadata": {},
   "outputs": [],
   "source": [
    "# Visualize the initial solvated system\n",
    "traj_init = mdtraj.load(\"packmol_02.pdb\")\n",
    "view = nglview.show_mdtraj(traj_init)\n",
    "view.clear_representations()\n",
    "view.add_licorice()\n",
    "view.add_unitcell()\n",
    "view"
   ]
  },
  {
   "cell_type": "markdown",
   "metadata": {},
   "source": [
    "## 3. Assign Sage parameters with the SMIRNOFF engine\n",
    "\n",
    "In this section, the force field parameters are assigned using the methodology developed in the OpenFF community.\n",
    "The SDF files are used as input because they contain bond-order data, which are needed to assign the correct parameters."
   ]
  },
  {
   "cell_type": "code",
   "execution_count": null,
   "metadata": {},
   "outputs": [],
   "source": [
    "# The generator can create an OpenMM system object.\n",
    "# It uses standard force fields when applicable and\n",
    "# falls back to OpenFF when needed.\n",
    "generator = openmmforcefields.generators.SystemGenerator(\n",
    "    [\"tip3p.xml\"],\n",
    "    small_molecule_forcefield=\"openff-2.0.0\",\n",
    "    molecules=[openff.toolkit.topology.Molecule.from_file(\n",
    "        fn_sdf) for fn_sdf in fns_sdf]\n",
    ")\n",
    "# Create the OpenMM system using the output of packmol.\n",
    "pdb = PDBFile(\"packmol_02.pdb\")\n",
    "system = generator.create_system(pdb.topology)"
   ]
  },
  {
   "cell_type": "markdown",
   "metadata": {},
   "source": [
    "The following line prints the non-bonding parameters of the last atom, which you can use to check if the right parameters were loaded for the last atom.\n",
    "\n",
    "For example, when running this notebook without modifications, the molecule is water and the last atom is a hydrogen. You should observe the charge of the hydrogen atom in tip3p-fb, which you can compare to the parameter from the XML parameter file: https://github.com/openmm/openmm/blob/master/wrappers/python/openmm/app/data/amber14/tip3pfb.xml#L249"
   ]
  },
  {
   "cell_type": "code",
   "execution_count": null,
   "metadata": {},
   "outputs": [],
   "source": [
    "for force in system.getForces():\n",
    "    if isinstance(force, openmm.NonbondedForce):\n",
    "        npart = force.getNumParticles()\n",
    "        print(force.getParticleParameters(npart-1))"
   ]
  },
  {
   "cell_type": "markdown",
   "metadata": {},
   "source": [
    "## 4. Short NpT molecular dynamics simulation"
   ]
  },
  {
   "cell_type": "code",
   "execution_count": null,
   "metadata": {},
   "outputs": [],
   "source": [
    "# Setup the MD\n",
    "temperature = 300 * kelvin\n",
    "pressure = 1 * bar\n",
    "integrator = LangevinIntegrator(temperature, 1/picosecond, 2*femtoseconds)\n",
    "system.addForce(MonteCarloBarostat(pressure, temperature))\n",
    "simulation = Simulation(pdb.topology, system, integrator)\n",
    "simulation.context.setPositions(pdb.positions)\n",
    "simulation.minimizeEnergy()\n",
    "\n",
    "# Write the initial state back to a PDB, could be useful\n",
    "# for debugging.\n",
    "with open(\"init_02.pdb\", \"w\") as f:\n",
    "    PDBFile.writeFile(simulation.topology, pdb.positions, f)\n",
    "\n",
    "# Set the reporters collecting the MD output.\n",
    "simulation.reporters = []\n",
    "simulation.reporters.append(DCDReporter('traj_02.dcd', 100))\n",
    "simulation.reporters.append(StateDataReporter(\n",
    "    stdout, 1000,\n",
    "    step=True,\n",
    "    temperature=True,\n",
    "    elapsedTime=True\n",
    "))\n",
    "simulation.reporters.append(StateDataReporter(\n",
    "    \"scalars_02.csv\", 100,\n",
    "    time=True,\n",
    "    potentialEnergy=True,\n",
    "    totalEnergy=True,\n",
    "    temperature=True,\n",
    "    volume=True\n",
    "))\n",
    "simulation.step(10000)\n",
    "\n",
    "# The last line is only needed for Windows users,\n",
    "# to close the DCD file before it can be opened by nglview.\n",
    "del simulation"
   ]
  },
  {
   "cell_type": "code",
   "execution_count": null,
   "metadata": {},
   "outputs": [],
   "source": [
    "# Visualize the trajectory.\n",
    "view = nglview.show_mdtraj(mdtraj.load(\"traj_02.dcd\", top=\"init_02.pdb\"))\n",
    "view.clear_representations()\n",
    "view.add_licorice()\n",
    "view.add_unitcell()\n",
    "view"
   ]
  },
  {
   "cell_type": "code",
   "execution_count": null,
   "metadata": {},
   "outputs": [],
   "source": [
    "# Plot temperature and volume as an initial verification of convergence.\n",
    "df = pandas.read_csv(\"scalars_02.csv\")\n",
    "df.plot(kind='line', x='#\"Time (ps)\"', y='Temperature (K)')\n",
    "df.plot(kind='line', x='#\"Time (ps)\"', y='Box Volume (nm^3)')"
   ]
  },
  {
   "cell_type": "markdown",
   "metadata": {},
   "source": [
    "## 5. Changing compositions\n",
    "\n",
    "**<span style=\"color:#A03;font-size:14pt\">\n",
    "&#x270B; HANDS-ON! &#x1F528;\n",
    "</span>**\n",
    "\n",
    "> Try a few different compositions of the simulation cell (i) to verify that you can include practically any molecule you like and (ii) to see how the cost of setting up the force field can vary:\n",
    ">\n",
    "> - Remove the ibuprofen molecules.\n",
    "> - Replace the second ibuprofen by another drug molecule (e.g. aspirin).\n",
    "> - Replace the two ibuprofens by one large drug molecule (e.g. amoxicillin).\n",
    "> - Replace the solvent (e.g. dimethylether)."
   ]
  }
 ],
 "metadata": {
  "kernelspec": {
   "display_name": "Python 3 (ipykernel)",
   "language": "python",
   "name": "python3"
  },
  "language_info": {
   "codemirror_mode": {
    "name": "ipython",
    "version": 3
   },
   "file_extension": ".py",
   "mimetype": "text/x-python",
   "name": "python",
   "nbconvert_exporter": "python",
   "pygments_lexer": "ipython3",
   "version": "3.9.7"
  },
  "latex_envs": {
   "LaTeX_envs_menu_present": true,
   "autoclose": true,
   "autocomplete": true,
   "bibliofile": "biblio.bib",
   "cite_by": "apalike",
   "current_citInitial": 1,
   "eqLabelWithNumbers": true,
   "eqNumInitial": 1,
   "hotkeys": {
    "equation": "Ctrl-E",
    "itemize": "Ctrl-I"
   },
   "labels_anchors": false,
   "latex_user_defs": false,
   "report_style_numbering": false,
   "user_envs_cfg": false
  }
 },
 "nbformat": 4,
 "nbformat_minor": 4
}
