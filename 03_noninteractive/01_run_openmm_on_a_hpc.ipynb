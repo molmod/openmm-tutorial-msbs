{
 "cells": [
  {
   "cell_type": "markdown",
   "metadata": {},
   "source": [
    "# Run demanding OpenMM notebooks non-interactively on an HPC\n",
    "\n",
    "**<span style=\"color:#A03;font-size:14pt\">\n",
    "&#x270B; HANDS-ON! &#x1F528;\n",
    "</span>**\n",
    "\n",
    "1. If you have not used the HPC yet for other parts of the tutorial, copy the following files to a directory on the HPC:\n",
    "   - `01_run_openmm_on_a_hpc.ipynb`\n",
    "   - `alanine-dipeptide.pdb`\n",
    "   - `job_openmm.sh`\n",
    "\n",
    "1. When you use the job script `job_openmm.sh` for another notebook, you should edit `job_openmm.sh` to change `01_run_openmm_on_a_hpc.ipynb` to the name of your notebook.\n",
    "   You can also change the `SBATCH` arguments to suit your needs:\n",
    "  \n",
    "   - Number of CPU cores is set by `--cpus-per-task`.\n",
    "   - Maximum wall time is set by `--time`. (Your job will be killed in case your calculation does not stop in time.)\n",
    "  \n",
    "   The `sbatch` program supports many other options to control the execution of the job.\n",
    "  Consult the [`sbatch` documentation](https://slurm.schedmd.com/sbatch.html) for more details.\n",
    "\n",
    "1. After creating the job script, run `sbatch job_openmm.sh`.\n",
    "  This will put your job on the queue, and as soon as resources are available to run your job, it will be executed.\n",
    "  To debug job scripts, it is recommended to test them on the Slaking cluster first.\n",
    "  Once it is working as expected, you can switch to more performing clusters.\n",
    "\n",
    "1. You can check the status of your job with the `squeue` command, or on [login.hpc.ugent.be](https://login.hpc.ugent.be).\n",
    "\n",
    "1. Once the job has completed, a copy of this notebook is created with all the outputs (`01_run_openmm_on_a_hpc.nbconvert.ipynb`), and also all other output files can be found in the same directory."
   ]
  },
  {
   "cell_type": "code",
   "execution_count": null,
   "metadata": {
    "tags": [
     "before-import"
    ]
   },
   "outputs": [],
   "source": [
    "%matplotlib widget"
   ]
  },
  {
   "cell_type": "code",
   "execution_count": null,
   "metadata": {},
   "outputs": [],
   "source": [
    "# Import all the modules we need.\n",
    "from sys import stdout\n",
    "\n",
    "from openmm import *\n",
    "from openmm.app import *\n",
    "from openmm.unit import *"
   ]
  },
  {
   "cell_type": "markdown",
   "metadata": {},
   "source": [
    "The following code was taken from [../02/02_alanine_dipeptide.ipynb](../02/02_alanine_dipeptide.ipynb), example 3."
   ]
  },
  {
   "cell_type": "code",
   "execution_count": null,
   "metadata": {},
   "outputs": [],
   "source": [
    "pdb = PDBFile(\"alanine-dipeptide.pdb\")\n",
    "modeller = Modeller(pdb.topology, pdb.positions)\n",
    "forcefield = ForceField(\"amber14-all.xml\", \"amber14/tip3pfb.xml\")\n",
    "modeller.addSolvent(forcefield, model=\"tip3p\", padding=1 * nanometer)\n",
    "print(modeller.topology)\n",
    "# Write a PDB file to provide a topology of the solvated\n",
    "# system to MDTraj below.\n",
    "with open(\"init3.pdb\", \"w\") as outfile:\n",
    "    PDBFile.writeFile(modeller.topology, modeller.positions, outfile)\n",
    "\n",
    "# The modeller builds a periodic box with the solute and solvent molecules.\n",
    "# PME is the method to compute long-range electristatic interactions in\n",
    "# periodic systems.\n",
    "system = forcefield.createSystem(modeller.topology, nonbondedMethod=PME, constraints=HBonds)\n",
    "temperature = 300 * kelvin\n",
    "pressure = 1 * bar\n",
    "integrator = LangevinIntegrator(temperature, 1 / picosecond, 2 * femtoseconds)\n",
    "system.addForce(MonteCarloBarostat(pressure, temperature))\n",
    "simulation = Simulation(modeller.topology, system, integrator)\n",
    "simulation.context.setPositions(modeller.positions)\n",
    "simulation.minimizeEnergy()\n",
    "simulation.reporters.append(DCDReporter(\"traj3.dcd\", 100))\n",
    "simulation.reporters.append(\n",
    "    StateDataReporter(stdout, 1000, step=True, temperature=True, elapsedTime=True)\n",
    ")\n",
    "simulation.reporters.append(\n",
    "    StateDataReporter(\n",
    "        \"scalars3.csv\",\n",
    "        100,\n",
    "        time=True,\n",
    "        potentialEnergy=True,\n",
    "        totalEnergy=True,\n",
    "        temperature=True,\n",
    "    )\n",
    ")\n",
    "simulation.step(100000)"
   ]
  }
 ],
 "metadata": {
  "kernelspec": {
   "display_name": "Python 3 (ipykernel)",
   "language": "python",
   "name": "python3"
  },
  "language_info": {
   "codemirror_mode": {
    "name": "ipython",
    "version": 3
   },
   "file_extension": ".py",
   "mimetype": "text/x-python",
   "name": "python",
   "nbconvert_exporter": "python",
   "pygments_lexer": "ipython3",
   "version": "3.9.13"
  }
 },
 "nbformat": 4,
 "nbformat_minor": 4
}
